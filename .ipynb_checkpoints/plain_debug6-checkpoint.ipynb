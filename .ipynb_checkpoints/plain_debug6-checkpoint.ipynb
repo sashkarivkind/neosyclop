{
 "cells": [
  {
   "cell_type": "code",
   "execution_count": 1,
   "id": "b430abe6",
   "metadata": {},
   "outputs": [
    {
     "name": "stderr",
     "output_type": "stream",
     "text": [
      "/usr/local/lib/python3.8/dist-packages/tensorflow_addons/utils/ensure_tf_install.py:53: UserWarning: Tensorflow Addons supports using Python ops for all Tensorflow versions above or equal to 2.3.0 and strictly below 2.6.0 (nightly versions are not supported). \n",
      " The versions of TensorFlow you are currently using is 2.6.0 and is not supported. \n",
      "Some things might work, some things might not.\n",
      "If you were to encounter a bug, do not file an issue.\n",
      "If you want to make sure you're using a tested and supported configuration, either change the TensorFlow version or the TensorFlow Addons's version. \n",
      "You can find the compatibility matrix in TensorFlow Addon's readme:\n",
      "https://github.com/tensorflow/addons\n",
      "  warnings.warn(\n"
     ]
    },
    {
     "name": "stdout",
     "output_type": "stream",
     "text": [
      "WARNING:tensorflow:From /home/bnapp/arivkindNet/neosyclop/imagenet_dataset.py:103: map_and_batch (from tensorflow.python.data.experimental.ops.batching) is deprecated and will be removed in a future version.\n",
      "Instructions for updating:\n",
      "Use `tf.data.Dataset.map(map_func, num_parallel_calls)` followed by `tf.data.Dataset.batch(batch_size, drop_remainder)`. Static tf.data optimizations will take care of using the fused implementation.\n",
      "WARNING:tensorflow:The operation `tf.image.convert_image_dtype` will be skipped since the input and output dtypes are identical.\n",
      "WARNING:tensorflow:The operation `tf.image.convert_image_dtype` will be skipped since the input and output dtypes are identical.\n"
     ]
    }
   ],
   "source": [
    "import os\n",
    "os.environ['TF_CPP_MIN_LOG_LEVEL'] = '4'  # or any {'0', '1', '2'}\n",
    "from imagenet_dataset import get_dataset\n",
    "from retina_env import RetinaEnv, calculate_retinal_filter\n",
    "from rl_networks import create_actor_model, create_critic_model, policy\n",
    "from rl_core import Buffer, update_target\n",
    "import matplotlib.pyplot as plt\n",
    "import numpy as np\n",
    "import tensorflow as tf\n",
    "\n",
    "import types\n",
    "config = types.SimpleNamespace()\n",
    "config.batch_size = 32\n",
    "config.margin = 20\n",
    "config.image_h = 224\n",
    "config.image_w = 224\n",
    "config.image_hm = config.image_h+2*config.margin\n",
    "config.image_wm = config.image_w+2*config.margin\n",
    "config.foveate = None\n",
    "config.do_grayscale = True\n",
    "config.history_length = 16\n",
    "config.t_ignore = 16\n",
    "config.t_max =50\n",
    "config.motion_mode = 'velocity'\n",
    "config.use_dones = True\n",
    "\n",
    "config.gym_mode = False\n",
    "t_vec = np.linspace(0,150,16)\n",
    "\n",
    "balanced_filter = calculate_retinal_filter(t_vec, R=1.0)\n",
    "config.filter = balanced_filter.reshape([1,1,-1,1])\n",
    "config.min_freq = 1\n",
    "config.max_freq = 13\n",
    "config.action_upper_bound = np.array([2.0, 2.0])\n",
    "\n",
    "dataset_dir = '/home/bnapp/datasets/tensorflow_datasets/imagenet2012/5.0.0/'\n",
    "\n",
    "def epsilon_scheduler(episode, floor_episode=200, epsilon_floor=0.1):\n",
    "    if episode < floor_episode:\n",
    "        return 1.-(1.-epsilon_floor)*episode/floor_episode\n",
    "    else:\n",
    "        return epsilon_floor\n",
    "\n",
    "dataset = get_dataset(dataset_dir,\n",
    "                                     'validation',\n",
    "                                     config.batch_size,\n",
    "                                     image_h = config.image_hm,\n",
    "                                     image_w = config.image_wm,\n",
    "                                     preprocessing='identity',\n",
    "                                     rggb_mode=False,\n",
    "                                     central_squeeze_and_pad_factor=-1)\n",
    "\n",
    "env = RetinaEnv(config, image_generator=dataset)\n",
    "\n",
    "if config.gym_mode:\n",
    "    num_states = env.observation_space.shape[0]\n",
    "    num_actions = env.action_space.shape[0]\n",
    "\n",
    "    upper_bound = env.action_space.high[0]\n",
    "    lower_bound = env.action_space.low[0]\n",
    "else:\n",
    "    num_states = env.observation_size\n",
    "    num_actions = env.action_size\n",
    "    upper_bound = env.action_upper_bound\n",
    "    lower_bound = env.action_lower_bound\n",
    "\n",
    "# You might want to adjust the hyperparameters\n",
    "actor_lr = 0.00001\n",
    "critic_lr = 0.0001\n",
    "gamma = 15./16.\n",
    "tau = 0.005\n",
    "\n",
    "buffer_capacity = 10000\n",
    "\n",
    "\n",
    "\n",
    "# Create actor and critic networks\n",
    "actor_model = create_actor_model(env.image_h, env.image_w, env.spectral_density_size, env.location_history_size, env.timestep_size, env.action_size)\n",
    "critic_model = create_critic_model(env.image_h, env.image_w, env.spectral_density_size, env.location_history_size, env.timestep_size, env.action_size)\n",
    "\n",
    "# Create target actor and critic networks\n",
    "target_actor = create_actor_model(env.image_h, env.image_w, env.spectral_density_size, env.location_history_size, env.timestep_size, env.action_size)\n",
    "target_critic = create_critic_model(env.image_h, env.image_w, env.spectral_density_size, env.location_history_size, env.timestep_size, env.action_size)\n",
    "\n",
    "# Making the weights equal initially\n",
    "target_actor.set_weights(actor_model.get_weights())\n",
    "target_critic.set_weights(critic_model.get_weights())\n",
    "\n",
    "# Learning rate for actor-critic models\n",
    "critic_optimizer = tf.keras.optimizers.Adam(critic_lr)\n",
    "actor_optimizer = tf.keras.optimizers.Adam(actor_lr)\n",
    "\n",
    "# Experience replay buffer\n",
    "buffer = Buffer(buffer_capacity, config.batch_size, num_states=num_states, num_actions=num_actions,\n",
    "                state_reshape_fn=env.unflatten_observation, use_dones=config.use_dones)"
   ]
  },
  {
   "cell_type": "code",
   "execution_count": null,
   "id": "c0f80899",
   "metadata": {
    "scrolled": true
   },
   "outputs": [
    {
     "name": "stdout",
     "output_type": "stream",
     "text": [
      "WARNING:tensorflow:The operation `tf.image.convert_image_dtype` will be skipped since the input and output dtypes are identical.\n",
      "WARNING:tensorflow:The operation `tf.image.convert_image_dtype` will be skipped since the input and output dtypes are identical.\n",
      "done used debug -------------------\n",
      "done used debug -------------------\n",
      "Episode * 0 * exploration epsilon 1.0 * Episodic Reward is ==> -9.126204490661621\n",
      "action means and variances at step -10: [-0.00388942 -0.06593791] [8.0317659e-05 3.4250846e-04]\n",
      "action means and variances at step -5: [-0.00140586 -0.0678473 ] [9.3439914e-05 3.9487478e-04]\n",
      "WARNING:tensorflow:The operation `tf.image.convert_image_dtype` will be skipped since the input and output dtypes are identical.\n",
      "WARNING:tensorflow:The operation `tf.image.convert_image_dtype` will be skipped since the input and output dtypes are identical.\n",
      "Episode * 1 * exploration epsilon 0.9991 * Episodic Reward is ==> -9.573820114135742\n",
      "action means and variances at step -10: [-0.00173956 -0.07582925] [6.3276748e-05 5.2330596e-04]\n",
      "action means and variances at step -5: [-7.4440075e-05 -7.8368977e-02] [5.5857483e-05 4.8104054e-04]\n",
      "WARNING:tensorflow:The operation `tf.image.convert_image_dtype` will be skipped since the input and output dtypes are identical.\n",
      "WARNING:tensorflow:The operation `tf.image.convert_image_dtype` will be skipped since the input and output dtypes are identical.\n",
      "Episode * 2 * exploration epsilon 0.9982 * Episodic Reward is ==> -9.291385650634766\n",
      "action means and variances at step -10: [ 0.00056148 -0.08864678] [6.987919e-05 4.226729e-04]\n",
      "action means and variances at step -5: [-2.4916051e-05 -8.7422617e-02] [8.7658569e-05 2.8088831e-04]\n",
      "WARNING:tensorflow:The operation `tf.image.convert_image_dtype` will be skipped since the input and output dtypes are identical.\n",
      "WARNING:tensorflow:The operation `tf.image.convert_image_dtype` will be skipped since the input and output dtypes are identical.\n",
      "Episode * 3 * exploration epsilon 0.9973 * Episodic Reward is ==> -10.584775924682617\n",
      "action means and variances at step -10: [ 0.00078222 -0.09882933] [9.2923488e-05 4.4471462e-04]\n",
      "action means and variances at step -5: [ 0.00365534 -0.09972014] [6.6905603e-05 3.5412464e-04]\n",
      "WARNING:tensorflow:The operation `tf.image.convert_image_dtype` will be skipped since the input and output dtypes are identical.\n",
      "WARNING:tensorflow:The operation `tf.image.convert_image_dtype` will be skipped since the input and output dtypes are identical.\n",
      "Episode * 4 * exploration epsilon 0.9964 * Episodic Reward is ==> -13.11349105834961\n",
      "action means and variances at step -10: [ 0.00305389 -0.10748846] [9.6157666e-05 4.3990568e-04]\n",
      "action means and variances at step -5: [ 0.00479627 -0.1077193 ] [0.00010256 0.00048014]\n",
      "WARNING:tensorflow:The operation `tf.image.convert_image_dtype` will be skipped since the input and output dtypes are identical.\n",
      "WARNING:tensorflow:The operation `tf.image.convert_image_dtype` will be skipped since the input and output dtypes are identical.\n"
     ]
    }
   ],
   "source": [
    "# Training loop\n",
    "reward_records = []\n",
    "epsilon_records = []\n",
    "action_mean_records = []\n",
    "action_var_records = []\n",
    "episodes = 10000\n",
    "for ep in range(episodes):\n",
    "    prev_state = env.reset()\n",
    "    episodic_reward = 0\n",
    "    epsilon = epsilon_scheduler(ep, floor_episode=1000)\n",
    "\n",
    "    while True:\n",
    "        # tf_prev_state = tf.expand_dims(tf.convert_to_tensor(prev_state), 0)\n",
    "        \n",
    "        deterministic_action = policy(env.unflatten_observation(prev_state), actor_model, lower_bound, upper_bound)\n",
    "        random_action = -2+4*np.random.uniform(size=(config.batch_size,2))\n",
    "\n",
    "        if env.warmup_done:\n",
    "            action = epsilon*random_action + (1-epsilon)*deterministic_action\n",
    "        else:\n",
    "            action = random_action\n",
    "\n",
    "        # Recieve state and reward from environment\n",
    "        state, reward, done, info = env.step(action)\n",
    "        \n",
    "        if env.warmup_done:\n",
    "            if config.use_dones:\n",
    "                buffer.record((prev_state, action, reward, state, done))\n",
    "            else:   \n",
    "                buffer.record((prev_state, action, reward, state))\n",
    "                \n",
    "            episodic_reward += reward\n",
    "\n",
    "            buffer.learn(actor_model, target_actor, critic_model, target_critic, actor_optimizer, critic_optimizer, gamma, tau)\n",
    "            update_target(target_actor.variables, actor_model.variables, tau)\n",
    "            update_target(target_critic.variables, critic_model.variables, tau)\n",
    "            \n",
    "            action_mean_records.append(deterministic_action.numpy().mean(axis=0))\n",
    "            action_var_records.append(deterministic_action.numpy().var(axis=0))\n",
    "        # End this episode when `done` is True\n",
    "        if done:\n",
    "            break\n",
    "\n",
    "        #prev_state = state avoid assingment by reference:\n",
    "        prev_state = np.copy(state)\n",
    "#         print('debug action: ', action[0])\n",
    "\n",
    "    print(f\"Episode * {ep} * exploration epsilon {epsilon} * Episodic Reward is ==> {episodic_reward.numpy().mean()}\")\n",
    "    print(\"action means and variances at step -10:\", action_mean_records[-10],action_var_records[-10])\n",
    "    print(\"action means and variances at step -5:\", action_mean_records[-5],action_var_records[-5])\n",
    "    reward_records.append(episodic_reward.numpy().mean())\n",
    "    epsilon_records.append(epsilon)"
   ]
  },
  {
   "cell_type": "code",
   "execution_count": null,
   "id": "4f3149aa",
   "metadata": {},
   "outputs": [],
   "source": []
  },
  {
   "cell_type": "code",
   "execution_count": null,
   "id": "2a74432c",
   "metadata": {},
   "outputs": [],
   "source": [
    "plt.plot(reward_records)"
   ]
  },
  {
   "cell_type": "code",
   "execution_count": null,
   "id": "a7ebb1f6",
   "metadata": {},
   "outputs": [],
   "source": [
    "import misc"
   ]
  },
  {
   "cell_type": "code",
   "execution_count": null,
   "id": "77bc4e20",
   "metadata": {},
   "outputs": [],
   "source": [
    "plt.plot(reward_records)\n",
    "plt.plot(misc.smooth(reward_records,100))\n",
    "plt.grid()\n"
   ]
  },
  {
   "cell_type": "code",
   "execution_count": null,
   "id": "a9aab1fe",
   "metadata": {},
   "outputs": [],
   "source": [
    "plt.plot(reward_records)\n",
    "plt.plot(misc.smooth(reward_records,1000))\n",
    "plt.grid()"
   ]
  },
  {
   "cell_type": "code",
   "execution_count": null,
   "id": "ce68e664",
   "metadata": {},
   "outputs": [],
   "source": [
    "plt.plot(buffer.critic_loss_buffer[100:])\n",
    "plt.plot(misc.smooth(buffer.critic_loss_buffer[100:],100))"
   ]
  },
  {
   "cell_type": "code",
   "execution_count": null,
   "id": "2bb73a5c",
   "metadata": {},
   "outputs": [],
   "source": [
    "plt.plot(buffer.critic_loss_buffer[:10])\n"
   ]
  },
  {
   "cell_type": "code",
   "execution_count": null,
   "id": "c2391c77",
   "metadata": {
    "scrolled": true
   },
   "outputs": [],
   "source": [
    "plt.plot(misc.smooth(buffer.critic_loss_buffer[100:],1))\n",
    "plt.plot(misc.smooth(buffer.critic_loss_buffer[100:],100))\n",
    "plt.plot(misc.smooth(buffer.critic_loss_buffer[100:],1000))\n",
    "plt.ylim([0,0.05])\n",
    "plt.grid()"
   ]
  },
  {
   "cell_type": "code",
   "execution_count": null,
   "id": "5d4205de",
   "metadata": {},
   "outputs": [],
   "source": [
    "plt.plot(misc.smooth(buffer.critic_loss_buffer[100:],1))\n",
    "plt.plot(misc.smooth(buffer.critic_loss_buffer[100:],100))\n",
    "plt.plot(misc.smooth(buffer.critic_loss_buffer[100:],1000))\n",
    "plt.grid()"
   ]
  },
  {
   "cell_type": "code",
   "execution_count": null,
   "id": "107f827e",
   "metadata": {},
   "outputs": [],
   "source": [
    "plt.plot(misc.smooth(buffer.critic_loss_buffer[-500:],1))\n",
    "plt.plot(misc.smooth(buffer.critic_loss_buffer[-500:],100))\n",
    "plt.plot(misc.smooth(buffer.critic_loss_buffer[-500:],1000))\n",
    "plt.grid()"
   ]
  },
  {
   "cell_type": "code",
   "execution_count": null,
   "id": "902571ff",
   "metadata": {},
   "outputs": [],
   "source": [
    "## Debugging Nan values in action"
   ]
  },
  {
   "cell_type": "code",
   "execution_count": null,
   "id": "7c3584d0",
   "metadata": {},
   "outputs": [],
   "source": [
    "plt.plot(buffer.actor_loss_buffer[100:])\n"
   ]
  },
  {
   "cell_type": "code",
   "execution_count": null,
   "id": "de88971a",
   "metadata": {},
   "outputs": [],
   "source": [
    "deterministic_action.numpy()"
   ]
  },
  {
   "cell_type": "code",
   "execution_count": null,
   "id": "7a9044ba",
   "metadata": {},
   "outputs": [],
   "source": [
    "reward"
   ]
  },
  {
   "cell_type": "code",
   "execution_count": null,
   "id": "18e558c6",
   "metadata": {},
   "outputs": [],
   "source": [
    "env.reset()\n",
    "for ii in range(55):\n",
    "    random_action = -2+4*np.random.uniform(size=(config.batch_size,2))\n",
    "    state, reward, done, info = env.step(random_action)\n",
    "    print('----------')\n",
    "    print(reward.numpy()[:5])\n",
    "    print(critic_model([env.unflatten_observation(state),\n",
    "                          deterministic_action]).numpy()[:5].T)\n",
    "    print(critic_model([env.unflatten_observation(state),\n",
    "                          random_action]).numpy()[:5].T)"
   ]
  },
  {
   "cell_type": "code",
   "execution_count": null,
   "id": "a493bd30",
   "metadata": {},
   "outputs": [],
   "source": [
    "plt.imshow(env.unflatten_observation(state)[0].numpy()[0])"
   ]
  },
  {
   "cell_type": "code",
   "execution_count": null,
   "id": "4a98b6c2",
   "metadata": {},
   "outputs": [],
   "source": [
    "env.unflatten_observation(state)[1].numpy()[0]"
   ]
  },
  {
   "cell_type": "code",
   "execution_count": null,
   "id": "639b7af9",
   "metadata": {},
   "outputs": [],
   "source": [
    "env.unflatten_observation(state)[2].numpy()[0]"
   ]
  },
  {
   "cell_type": "code",
   "execution_count": null,
   "id": "4c1c5860",
   "metadata": {},
   "outputs": [],
   "source": [
    "env.unflatten_observation(state)[3].numpy()[0]"
   ]
  },
  {
   "cell_type": "code",
   "execution_count": null,
   "id": "9a9a1bd1",
   "metadata": {},
   "outputs": [],
   "source": [
    "random_action"
   ]
  },
  {
   "cell_type": "code",
   "execution_count": null,
   "id": "43f5ae4f",
   "metadata": {},
   "outputs": [],
   "source": [
    "critic_model([env.unflatten_observation(state),\n",
    "                          random_action])"
   ]
  },
  {
   "cell_type": "code",
   "execution_count": null,
   "id": "b9ff3136",
   "metadata": {},
   "outputs": [],
   "source": [
    "deterministic_action"
   ]
  },
  {
   "cell_type": "code",
   "execution_count": null,
   "id": "e24ae189",
   "metadata": {},
   "outputs": [],
   "source": [
    "actor_model(env.unflatten_observation(state))"
   ]
  },
  {
   "cell_type": "code",
   "execution_count": null,
   "id": "c302c007",
   "metadata": {},
   "outputs": [],
   "source": [
    "actor_model.weights"
   ]
  },
  {
   "cell_type": "code",
   "execution_count": null,
   "id": "4b0728f0",
   "metadata": {},
   "outputs": [],
   "source": [
    "critic_model.weights"
   ]
  },
  {
   "cell_type": "code",
   "execution_count": null,
   "id": "cc4abf8d",
   "metadata": {},
   "outputs": [],
   "source": []
  }
 ],
 "metadata": {
  "kernelspec": {
   "display_name": "Python 3 (ipykernel)",
   "language": "python",
   "name": "python3"
  },
  "language_info": {
   "codemirror_mode": {
    "name": "ipython",
    "version": 3
   },
   "file_extension": ".py",
   "mimetype": "text/x-python",
   "name": "python",
   "nbconvert_exporter": "python",
   "pygments_lexer": "ipython3",
   "version": "3.8.10"
  }
 },
 "nbformat": 4,
 "nbformat_minor": 5
}
