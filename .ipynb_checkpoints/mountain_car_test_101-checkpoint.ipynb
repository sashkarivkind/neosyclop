{
 "cells": [
  {
   "cell_type": "code",
   "execution_count": 1,
   "id": "70f713d7",
   "metadata": {},
   "outputs": [
    {
     "data": {
      "text/plain": [
       "'in this version we always use the same batch of images'"
      ]
     },
     "execution_count": 1,
     "metadata": {},
     "output_type": "execute_result"
    }
   ],
   "source": [
    "'''in this version we always use the same batch of images'''"
   ]
  },
  {
   "cell_type": "code",
   "execution_count": 2,
   "id": "b430abe6",
   "metadata": {},
   "outputs": [
    {
     "name": "stderr",
     "output_type": "stream",
     "text": [
      "/usr/local/lib/python3.8/dist-packages/tensorflow_addons/utils/ensure_tf_install.py:53: UserWarning: Tensorflow Addons supports using Python ops for all Tensorflow versions above or equal to 2.3.0 and strictly below 2.6.0 (nightly versions are not supported). \n",
      " The versions of TensorFlow you are currently using is 2.6.0 and is not supported. \n",
      "Some things might work, some things might not.\n",
      "If you were to encounter a bug, do not file an issue.\n",
      "If you want to make sure you're using a tested and supported configuration, either change the TensorFlow version or the TensorFlow Addons's version. \n",
      "You can find the compatibility matrix in TensorFlow Addon's readme:\n",
      "https://github.com/tensorflow/addons\n",
      "  warnings.warn(\n"
     ]
    }
   ],
   "source": [
    "import os\n",
    "os.environ['TF_CPP_MIN_LOG_LEVEL'] = '3'  # or any {'0', '1', '2'}\n",
    "from imagenet_dataset import get_dataset\n",
    "from retina_env import RetinaEnv, calculate_retinal_filter\n",
    "from rl_networks import create_actor_model, create_critic_model, policy\n",
    "from rl_core import Buffer, update_target\n",
    "import matplotlib.pyplot as plt\n",
    "import numpy as np\n",
    "import tensorflow as tf\n",
    "from pg_core import GaussianPolicyAgent\n",
    "from rl_networks import create_actor_network_test_v1\n",
    "\n",
    "from test_envs import SimpleMountainCarContinuous \n",
    "\n",
    "import types\n",
    "config = types.SimpleNamespace()\n",
    "config.batch_size = 1\n",
    "# config.margin = 20\n",
    "# config.image_h = 224\n",
    "# config.image_w = 224\n",
    "# config.image_hm = config.image_h+2*config.margin\n",
    "# config.image_wm = config.image_w+2*config.margin\n",
    "# config.foveate = None\n",
    "# config.do_grayscale = True\n",
    "# config.history_length = 16\n",
    "# config.t_ignore = 16\n",
    "# config.t_max =50\n",
    "# config.motion_mode = 'velocity'\n",
    "# config.use_dones = False\n",
    "\n",
    "# config.gym_mode = False\n",
    "# t_vec = np.linspace(0,150,16)\n",
    "\n",
    "# balanced_filter = calculate_retinal_filter(t_vec, R=1.0)\n",
    "# config.filter = balanced_filter.reshape([1,1,-1,1])\n",
    "# config.min_freq = 1\n",
    "# config.max_freq = 13\n",
    "# config.action_upper_bound = np.array([2.0, 2.0])\n",
    "actor_lr = 1e-4\n",
    "dataset_dir = '/home/bnapp/datasets/tensorflow_datasets/imagenet2012/5.0.0/'\n",
    "\n",
    "def epsilon_scheduler(episode, floor_episode=200, epsilon_floor=0.1):\n",
    "    if episode < floor_episode:\n",
    "        return 1.-(1.-epsilon_floor)*episode/floor_episode\n",
    "    else:\n",
    "        return epsilon_floor\n",
    "\n",
    "# dataset = get_dataset(dataset_dir,\n",
    "#                                      'validation',\n",
    "#                                      config.batch_size,\n",
    "#                                      image_h = config.image_hm,\n",
    "#                                      image_w = config.image_wm,\n",
    "#                                      preprocessing='identity',\n",
    "#                                      rggb_mode=False,\n",
    "#                                      central_squeeze_and_pad_factor=-1)\n",
    "\n",
    "# # env = RetinaEnv(config, image_generator=dataset)\n",
    "# env = RetinaEnv(config) #freezing on first batch\n",
    "# for images,_ in dataset:\n",
    "#     break\n",
    "    \n",
    "env =  SimpleMountainCarContinuous()\n",
    "\n",
    "\n",
    "\n",
    "\n",
    "# actor_model = create_actor_model(env.image_h, env.image_w,\n",
    "#                                  env.spectral_density_size, env.location_history_size,\n",
    "#                                  env.timestep_size, env.action_size)\n",
    "actor_model = create_actor_network_test_v1((2,), 2.0)\n",
    "\n",
    "actor_optimizer = tf.keras.optimizers.Adam(actor_lr)\n",
    "actor_model.optimizer = actor_optimizer\n",
    "agent = GaussianPolicyAgent(std_deviation=0.3,model=actor_model,action_dim=1)"
   ]
  },
  {
   "cell_type": "code",
   "execution_count": null,
   "id": "c0f80899",
   "metadata": {
    "scrolled": true
   },
   "outputs": [
    {
     "name": "stdout",
     "output_type": "stream",
     "text": [
      "Episode * 0 * Episodic Reward is ==> -300.0\n",
      "action means and variances at step -10: [0.48836924] [0.]\n",
      "action means and variances at step -5: [0.39675664] [0.]\n",
      "action statmeans and variances at step -10: [0.4748637] [0.3]\n",
      "action statmeans and variances at step -5: [0.45631585] [0.3]\n",
      "Episode * 1 * Episodic Reward is ==> -300.0\n",
      "action means and variances at step -10: [1.05913615] [0.]\n",
      "action means and variances at step -5: [1.0053322] [0.]\n",
      "action statmeans and variances at step -10: [0.5399921] [0.3]\n",
      "action statmeans and variances at step -5: [0.48732138] [0.3]\n",
      "Episode * 2 * Episodic Reward is ==> -300.0\n",
      "action means and variances at step -10: [0.6009379] [0.]\n",
      "action means and variances at step -5: [0.2766873] [0.]\n",
      "action statmeans and variances at step -10: [0.5060032] [0.3]\n",
      "action statmeans and variances at step -5: [0.46864513] [0.3]\n",
      "Episode * 3 * Episodic Reward is ==> -300.0\n",
      "action means and variances at step -10: [0.04368944] [0.]\n",
      "action means and variances at step -5: [0.77881673] [0.]\n",
      "action statmeans and variances at step -10: [0.4862547] [0.3]\n",
      "action statmeans and variances at step -5: [0.47529992] [0.3]\n",
      "Episode * 4 * Episodic Reward is ==> -300.0\n",
      "action means and variances at step -10: [0.60702983] [0.]\n",
      "action means and variances at step -5: [-0.01749412] [0.]\n",
      "action statmeans and variances at step -10: [0.4711691] [0.3]\n",
      "action statmeans and variances at step -5: [0.4676975] [0.3]\n",
      "Episode * 5 * Episodic Reward is ==> -300.0\n",
      "action means and variances at step -10: [0.33534537] [0.]\n",
      "action means and variances at step -5: [0.70837148] [0.]\n",
      "action statmeans and variances at step -10: [0.49400353] [0.3]\n",
      "action statmeans and variances at step -5: [0.4862778] [0.3]\n",
      "Episode * 6 * Episodic Reward is ==> -300.0\n",
      "action means and variances at step -10: [0.21476434] [0.]\n",
      "action means and variances at step -5: [0.323102] [0.]\n",
      "action statmeans and variances at step -10: [0.49853426] [0.3]\n",
      "action statmeans and variances at step -5: [0.49426097] [0.3]\n",
      "Episode * 7 * Episodic Reward is ==> -300.0\n",
      "action means and variances at step -10: [1.11713637] [0.]\n",
      "action means and variances at step -5: [0.47156759] [0.]\n",
      "action statmeans and variances at step -10: [0.46137917] [0.3]\n",
      "action statmeans and variances at step -5: [0.4295035] [0.3]\n",
      "Episode * 8 * Episodic Reward is ==> -300.0\n",
      "action means and variances at step -10: [0.25244581] [0.]\n",
      "action means and variances at step -5: [0.45316837] [0.]\n",
      "action statmeans and variances at step -10: [0.50489926] [0.3]\n",
      "action statmeans and variances at step -5: [0.49557358] [0.3]\n",
      "Episode * 9 * Episodic Reward is ==> -300.0\n",
      "action means and variances at step -10: [0.3173801] [0.]\n",
      "action means and variances at step -5: [1.10542418] [0.]\n",
      "action statmeans and variances at step -10: [0.52209264] [0.3]\n",
      "action statmeans and variances at step -5: [0.5256197] [0.3]\n",
      "Episode * 10 * Episodic Reward is ==> -300.0\n",
      "action means and variances at step -10: [0.47395672] [0.]\n",
      "action means and variances at step -5: [0.26563022] [0.]\n",
      "action statmeans and variances at step -10: [0.46094134] [0.3]\n",
      "action statmeans and variances at step -5: [0.42145482] [0.3]\n",
      "Episode * 11 * Episodic Reward is ==> -300.0\n",
      "action means and variances at step -10: [0.49205357] [0.]\n",
      "action means and variances at step -5: [0.4902605] [0.]\n",
      "action statmeans and variances at step -10: [0.51311743] [0.3]\n",
      "action statmeans and variances at step -5: [0.49335733] [0.3]\n",
      "Episode * 12 * Episodic Reward is ==> -300.0\n",
      "action means and variances at step -10: [0.43965099] [0.]\n",
      "action means and variances at step -5: [0.30425507] [0.]\n",
      "action statmeans and variances at step -10: [0.40365738] [0.3]\n",
      "action statmeans and variances at step -5: [0.3673813] [0.3]\n",
      "Episode * 13 * Episodic Reward is ==> -300.0\n",
      "action means and variances at step -10: [0.5126319] [0.]\n",
      "action means and variances at step -5: [0.67606346] [0.]\n",
      "action statmeans and variances at step -10: [0.4605121] [0.3]\n",
      "action statmeans and variances at step -5: [0.43439418] [0.3]\n",
      "Episode * 14 * Episodic Reward is ==> -300.0\n",
      "action means and variances at step -10: [0.58178854] [0.]\n",
      "action means and variances at step -5: [0.06031944] [0.]\n",
      "action statmeans and variances at step -10: [0.45502046] [0.3]\n",
      "action statmeans and variances at step -5: [0.42924514] [0.3]\n",
      "Episode * 15 * Episodic Reward is ==> -300.0\n",
      "action means and variances at step -10: [0.95741147] [0.]\n",
      "action means and variances at step -5: [0.81945263] [0.]\n",
      "action statmeans and variances at step -10: [0.4026287] [0.3]\n",
      "action statmeans and variances at step -5: [0.40378216] [0.3]\n",
      "Episode * 16 * Episodic Reward is ==> -300.0\n",
      "action means and variances at step -10: [0.21705545] [0.]\n",
      "action means and variances at step -5: [0.21052844] [0.]\n",
      "action statmeans and variances at step -10: [0.54587674] [0.3]\n",
      "action statmeans and variances at step -5: [0.5525724] [0.3]\n",
      "Episode * 17 * Episodic Reward is ==> -300.0\n",
      "action means and variances at step -10: [0.26576439] [0.]\n",
      "action means and variances at step -5: [0.10098798] [0.]\n",
      "action statmeans and variances at step -10: [0.5016149] [0.3]\n",
      "action statmeans and variances at step -5: [0.48715973] [0.3]\n",
      "Episode * 18 * Episodic Reward is ==> -300.0\n",
      "action means and variances at step -10: [0.41171489] [0.]\n",
      "action means and variances at step -5: [0.5067575] [0.]\n",
      "action statmeans and variances at step -10: [0.43202174] [0.3]\n",
      "action statmeans and variances at step -5: [0.4174547] [0.3]\n",
      "Episode * 19 * Episodic Reward is ==> -300.0\n",
      "action means and variances at step -10: [0.22175168] [0.]\n",
      "action means and variances at step -5: [0.28086983] [0.]\n",
      "action statmeans and variances at step -10: [0.41470534] [0.3]\n",
      "action statmeans and variances at step -5: [0.40589625] [0.3]\n",
      "Episode * 20 * Episodic Reward is ==> -300.0\n",
      "action means and variances at step -10: [0.24467082] [0.]\n",
      "action means and variances at step -5: [-0.11111644] [0.]\n",
      "action statmeans and variances at step -10: [0.45726508] [0.3]\n",
      "action statmeans and variances at step -5: [0.44556874] [0.3]\n",
      "Episode * 21 * Episodic Reward is ==> -300.0\n",
      "action means and variances at step -10: [0.54255746] [0.]\n",
      "action means and variances at step -5: [1.29164878] [0.]\n",
      "action statmeans and variances at step -10: [0.49529216] [0.3]\n",
      "action statmeans and variances at step -5: [0.47749192] [0.3]\n",
      "Episode * 22 * Episodic Reward is ==> -300.0\n",
      "action means and variances at step -10: [0.41372828] [0.]\n",
      "action means and variances at step -5: [0.80943474] [0.]\n",
      "action statmeans and variances at step -10: [0.44710502] [0.3]\n",
      "action statmeans and variances at step -5: [0.42825255] [0.3]\n",
      "Episode * 23 * Episodic Reward is ==> -300.0\n",
      "action means and variances at step -10: [0.54812532] [0.]\n",
      "action means and variances at step -5: [0.57815755] [0.]\n",
      "action statmeans and variances at step -10: [0.46628577] [0.3]\n",
      "action statmeans and variances at step -5: [0.4532571] [0.3]\n",
      "Episode * 24 * Episodic Reward is ==> -300.0\n",
      "action means and variances at step -10: [0.55386938] [0.]\n",
      "action means and variances at step -5: [0.06253727] [0.]\n",
      "action statmeans and variances at step -10: [0.45871174] [0.3]\n",
      "action statmeans and variances at step -5: [0.41269612] [0.3]\n",
      "Episode * 25 * Episodic Reward is ==> -300.0\n",
      "action means and variances at step -10: [1.1276213] [0.]\n",
      "action means and variances at step -5: [0.42278805] [0.]\n",
      "action statmeans and variances at step -10: [0.48100385] [0.3]\n",
      "action statmeans and variances at step -5: [0.46651155] [0.3]\n",
      "Episode * 26 * Episodic Reward is ==> -300.0\n",
      "action means and variances at step -10: [0.71354682] [0.]\n",
      "action means and variances at step -5: [0.95623925] [0.]\n",
      "action statmeans and variances at step -10: [0.46731207] [0.3]\n",
      "action statmeans and variances at step -5: [0.43913254] [0.3]\n",
      "Episode * 27 * Episodic Reward is ==> -300.0\n",
      "action means and variances at step -10: [-0.04004363] [0.]\n",
      "action means and variances at step -5: [0.80318693] [0.]\n",
      "action statmeans and variances at step -10: [0.44148302] [0.3]\n",
      "action statmeans and variances at step -5: [0.40201956] [0.3]\n",
      "Episode * 28 * Episodic Reward is ==> -300.0\n",
      "action means and variances at step -10: [0.27389231] [0.]\n",
      "action means and variances at step -5: [0.58710788] [0.]\n",
      "action statmeans and variances at step -10: [0.471653] [0.3]\n",
      "action statmeans and variances at step -5: [0.43833715] [0.3]\n"
     ]
    },
    {
     "name": "stdout",
     "output_type": "stream",
     "text": [
      "Episode * 29 * Episodic Reward is ==> -300.0\n",
      "action means and variances at step -10: [0.23673843] [0.]\n",
      "action means and variances at step -5: [0.57660914] [0.]\n",
      "action statmeans and variances at step -10: [0.45129293] [0.3]\n",
      "action statmeans and variances at step -5: [0.42113906] [0.3]\n",
      "Episode * 30 * Episodic Reward is ==> -300.0\n",
      "action means and variances at step -10: [0.19396536] [0.]\n",
      "action means and variances at step -5: [0.41880364] [0.]\n",
      "action statmeans and variances at step -10: [0.48488092] [0.3]\n",
      "action statmeans and variances at step -5: [0.47836086] [0.3]\n",
      "Episode * 31 * Episodic Reward is ==> -300.0\n",
      "action means and variances at step -10: [0.57743284] [0.]\n",
      "action means and variances at step -5: [0.81157232] [0.]\n",
      "action statmeans and variances at step -10: [0.4969755] [0.3]\n",
      "action statmeans and variances at step -5: [0.4857382] [0.3]\n",
      "Episode * 32 * Episodic Reward is ==> -300.0\n",
      "action means and variances at step -10: [0.41189694] [0.]\n",
      "action means and variances at step -5: [0.60885372] [0.]\n",
      "action statmeans and variances at step -10: [0.39953104] [0.3]\n",
      "action statmeans and variances at step -5: [0.4003623] [0.3]\n"
     ]
    }
   ],
   "source": [
    "# Training loop\n",
    "reward_records = []\n",
    "epsilon_records = []\n",
    "action_mean_records = []\n",
    "action_var_records = []\n",
    "action_statmean_records = []\n",
    "action_statvar_records = []\n",
    "episodes = 10000\n",
    "for ep in range(episodes):\n",
    "    prev_state = env.reset()\n",
    "    episodic_reward = 0\n",
    "    states, actions, rewards = [], [], []\n",
    "\n",
    "#     epsilon = epsilon_scheduler(ep, floor_episode=1000)\n",
    "\n",
    "    while True:\n",
    "\n",
    "        deterministic_action, means,stdevs = agent.get_action(prev_state[np.newaxis,...],\n",
    "                                               return_stats=True)\n",
    "        action = deterministic_action #hook in order to add noise if neccessary\n",
    "#         state, reward, done, info = env.step(np.reshape(action,[1]))\n",
    "        state, reward, done, info = env.step(action[0][0])\n",
    "        \n",
    "#         if env.warmup_done:\n",
    "        states.append([prev_state])\n",
    "        actions.append(action)\n",
    "        rewards.append(reward)\n",
    "\n",
    "        episodic_reward += reward\n",
    "\n",
    "        action_mean_records.append(deterministic_action.mean(axis=0))\n",
    "        action_var_records.append(deterministic_action.var(axis=0))\n",
    "        action_statmean_records.append(means)\n",
    "        action_statvar_records.append(stdevs)\n",
    "        # End this episode when `done` is True\n",
    "        if done:\n",
    "            break\n",
    "\n",
    "        prev_state = np.copy(state)\n",
    "    \n",
    "    agent.train(np.array(states), np.array(actions), np.array(rewards))\n",
    "    reward_records.append(episodic_reward)\n",
    "    print(f\"Episode * {ep} * Episodic Reward is ==> {np.mean([episodic_reward])}\")\n",
    "#     print(f\"Episode * {ep} * exploration epsilon {epsilon} * Episodic Reward is ==> {episodic_reward.numpy().mean()}\")\n",
    "    print(\"action means and variances at step -10:\", action_mean_records[-10],action_var_records[-10])\n",
    "    print(\"action means and variances at step -5:\", action_mean_records[-5],action_var_records[-5])\n",
    "    print(\"action statmeans and variances at step -10:\", action_statmean_records[-10][0],action_statvar_records[-10][0])\n",
    "    print(\"action statmeans and variances at step -5:\", action_statmean_records[-5][0],action_statvar_records[-5][0])\n"
   ]
  },
  {
   "cell_type": "code",
   "execution_count": null,
   "id": "cc3b31c8",
   "metadata": {},
   "outputs": [],
   "source": [
    "np.shape(states)"
   ]
  },
  {
   "cell_type": "code",
   "execution_count": null,
   "id": "e48a38c4",
   "metadata": {},
   "outputs": [],
   "source": [
    "actions"
   ]
  },
  {
   "cell_type": "code",
   "execution_count": null,
   "id": "8f4ef9ce",
   "metadata": {},
   "outputs": [],
   "source": [
    "state.shape"
   ]
  },
  {
   "cell_type": "code",
   "execution_count": null,
   "id": "53fec913",
   "metadata": {},
   "outputs": [],
   "source": [
    "prev_state[np.newaxis,...]"
   ]
  },
  {
   "cell_type": "code",
   "execution_count": null,
   "id": "38e255c1",
   "metadata": {},
   "outputs": [],
   "source": [
    "env.state"
   ]
  },
  {
   "cell_type": "code",
   "execution_count": null,
   "id": "0babcc48",
   "metadata": {},
   "outputs": [],
   "source": [
    "state, reward, done, info = env.step(np.reshape(action,[1]))"
   ]
  },
  {
   "cell_type": "code",
   "execution_count": null,
   "id": "9c4dbf79",
   "metadata": {},
   "outputs": [],
   "source": [
    "state"
   ]
  },
  {
   "cell_type": "code",
   "execution_count": null,
   "id": "d7d91951",
   "metadata": {},
   "outputs": [],
   "source": [
    "np.reshape(action,[1])"
   ]
  },
  {
   "cell_type": "code",
   "execution_count": null,
   "id": "9401f2ce",
   "metadata": {},
   "outputs": [],
   "source": [
    "np.reshape(action,[-1])"
   ]
  },
  {
   "cell_type": "code",
   "execution_count": null,
   "id": "3d94e8f8",
   "metadata": {},
   "outputs": [],
   "source": [
    "action[0][0]"
   ]
  },
  {
   "cell_type": "code",
   "execution_count": null,
   "id": "694d66bc",
   "metadata": {},
   "outputs": [],
   "source": [
    "state, reward, done, info = env.step(action[0][0])"
   ]
  },
  {
   "cell_type": "code",
   "execution_count": null,
   "id": "8a19b2dc",
   "metadata": {},
   "outputs": [],
   "source": [
    "state"
   ]
  },
  {
   "cell_type": "code",
   "execution_count": null,
   "id": "d3516b67",
   "metadata": {},
   "outputs": [],
   "source": [
    "env.reset()"
   ]
  },
  {
   "cell_type": "code",
   "execution_count": null,
   "id": "79c20664",
   "metadata": {},
   "outputs": [],
   "source": [
    "env.state"
   ]
  },
  {
   "cell_type": "code",
   "execution_count": null,
   "id": "20ee94ed",
   "metadata": {},
   "outputs": [],
   "source": [
    "state, reward, done, info = env.step(action[0][0])"
   ]
  },
  {
   "cell_type": "code",
   "execution_count": null,
   "id": "c99e56bb",
   "metadata": {},
   "outputs": [],
   "source": [
    "state"
   ]
  },
  {
   "cell_type": "code",
   "execution_count": null,
   "id": "c64ce042",
   "metadata": {},
   "outputs": [],
   "source": [
    "state, reward, done, info = env.step(action[0][0])"
   ]
  },
  {
   "cell_type": "code",
   "execution_count": null,
   "id": "c3b6575c",
   "metadata": {},
   "outputs": [],
   "source": [
    "state"
   ]
  },
  {
   "cell_type": "code",
   "execution_count": null,
   "id": "208893d7",
   "metadata": {},
   "outputs": [],
   "source": [
    "state, reward, done, info = env.step(action[0])"
   ]
  },
  {
   "cell_type": "code",
   "execution_count": null,
   "id": "27102079",
   "metadata": {},
   "outputs": [],
   "source": [
    "state"
   ]
  },
  {
   "cell_type": "code",
   "execution_count": null,
   "id": "4f3149aa",
   "metadata": {},
   "outputs": [],
   "source": [
    "reward_records_=np.mean(reward_records, axis=1)"
   ]
  },
  {
   "cell_type": "code",
   "execution_count": null,
   "id": "ae511323",
   "metadata": {},
   "outputs": [],
   "source": []
  },
  {
   "cell_type": "code",
   "execution_count": null,
   "id": "f31d06ab",
   "metadata": {},
   "outputs": [],
   "source": [
    "np.array(action_statmean_records).shape"
   ]
  },
  {
   "cell_type": "code",
   "execution_count": null,
   "id": "2a74432c",
   "metadata": {},
   "outputs": [],
   "source": [
    "plt.plot(reward_records_)"
   ]
  },
  {
   "cell_type": "code",
   "execution_count": null,
   "id": "b6f3b6f5",
   "metadata": {},
   "outputs": [],
   "source": [
    "plt.plot(rewards)"
   ]
  },
  {
   "cell_type": "code",
   "execution_count": null,
   "id": "a7ebb1f6",
   "metadata": {},
   "outputs": [],
   "source": [
    "import misc"
   ]
  },
  {
   "cell_type": "code",
   "execution_count": null,
   "id": "77bc4e20",
   "metadata": {},
   "outputs": [],
   "source": [
    "plt.plot(reward_records_)\n",
    "plt.plot(misc.smooth(reward_records_,100))\n",
    "plt.grid()\n"
   ]
  },
  {
   "cell_type": "code",
   "execution_count": null,
   "id": "a9aab1fe",
   "metadata": {},
   "outputs": [],
   "source": [
    "# plt.plot(reward_records)\n",
    "plt.plot(misc.smooth(reward_records_,100))\n",
    "plt.grid()\n",
    "plt.ylim([-15,-5])"
   ]
  },
  {
   "cell_type": "code",
   "execution_count": null,
   "id": "ce68e664",
   "metadata": {},
   "outputs": [],
   "source": [
    "plt.plot(buffer.critic_loss_buffer[100:])\n",
    "plt.plot(misc.smooth(buffer.critic_loss_buffer[100:],100))"
   ]
  },
  {
   "cell_type": "code",
   "execution_count": null,
   "id": "338c1b70",
   "metadata": {},
   "outputs": [],
   "source": [
    "np.shape(action_statmean_records)"
   ]
  },
  {
   "cell_type": "code",
   "execution_count": null,
   "id": "11280265",
   "metadata": {},
   "outputs": [],
   "source": [
    "plt.plot(np.array(action_statmean_records).reshape([-1,8])[:,0])"
   ]
  },
  {
   "cell_type": "code",
   "execution_count": null,
   "id": "353122d5",
   "metadata": {},
   "outputs": [],
   "source": [
    "plt.plot(np.array(action_statmean_records).reshape([-1,8])[:,1])"
   ]
  },
  {
   "cell_type": "code",
   "execution_count": null,
   "id": "8744a917",
   "metadata": {},
   "outputs": [],
   "source": [
    "action_statmean_records[-300:]"
   ]
  },
  {
   "cell_type": "code",
   "execution_count": null,
   "id": "280e972a",
   "metadata": {},
   "outputs": [],
   "source": []
  }
 ],
 "metadata": {
  "kernelspec": {
   "display_name": "Python 3 (ipykernel)",
   "language": "python",
   "name": "python3"
  },
  "language_info": {
   "codemirror_mode": {
    "name": "ipython",
    "version": 3
   },
   "file_extension": ".py",
   "mimetype": "text/x-python",
   "name": "python",
   "nbconvert_exporter": "python",
   "pygments_lexer": "ipython3",
   "version": "3.8.10"
  }
 },
 "nbformat": 4,
 "nbformat_minor": 5
}
